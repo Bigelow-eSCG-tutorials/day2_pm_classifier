{
 "cells": [
  {
   "cell_type": "markdown",
   "id": "c2110810-8ffd-49b3-83d5-5fc7506fbfd7",
   "metadata": {},
   "source": [
    "## Running the GORG-classifier\n",
    "#### *(We already did this, we just want you to see what we did)*"
   ]
  },
  {
   "cell_type": "markdown",
   "id": "7d1ebd59-8af4-4dbf-9be4-2bbab41db77e",
   "metadata": {},
   "source": [
    "To get started, we are going to use the metagenomic libraries downloaded for the previous lesson. On the hub, they are located at: \n",
    "\n",
    "```\n",
    "/mnt/storage/data/metagenomes/subsampled_metagenomes/\n",
    "```"
   ]
  },
  {
   "cell_type": "markdown",
   "id": "f2ddb425-405d-43c7-8d7a-912b0aafc32a",
   "metadata": {},
   "source": [
    "But to run them through the classifier, we need to correct the read names in the forward and reverse reads so that the names are identical between the paired files.  There is a script within the GORG-classifier lesson repository that corrected this for us.  We ran this script on all downloaded metagenomes in the following way:\n",
    "\n",
    "```\n",
    "$ cd /mnt/storage/data/metagenomes/subsampled_metagenomes/\n",
    "$ for FILE in *.fastq.gz; \n",
    "do \n",
    "zcat $FILE | python ~/repos/Day3PM_gorg-classifier/scripts/update_names.py | gzip > ../subsampled_metagenomes_corrected/$FILE\n",
    "done\n",
    "```\n",
    "\n",
    "This script removes the final character within the read id, which differed between the forward and reverse files. "
   ]
  },
  {
   "cell_type": "markdown",
   "id": "77121257-a2ca-43f8-a06b-e08ed20c920c",
   "metadata": {},
   "source": [
    "Next, we will run them through the GORG-classifier. We will do so using the generic script:\n",
    "\n",
    "```\n",
    "nextflow run BigelowLab/gorg-classifier \\\n",
    "-profile docker \\\n",
    "--seqs \"/mnt/storage/data/metagenomes/subsampled_metagenomes_corrected/SRR*_{1,2}.fastq.gz\" \\\n",
    "--mode local \\\n",
    "--nodes /mnt/storage/reference_dbs/gorg_classifier/nodes.dmp \\\n",
    "--names /mnt/storage/reference_dbs/gorg_classifier/names.dmp \\\n",
    "--annotations /mnt/storage/reference_dbs/gorg_classifier/GORG_v1.tsv \\\n",
    "--fmi /mnt/storage/reference_dbs/gorg_classifier/GORG_v1_NCBI.fmi \\\n",
    "--cpus 10 \\\n",
    "--outdir /mnt/storage/lessons/day2_pm_classifier/results/\n",
    "```\n",
    "\n",
    "This workflow runs using Nextflow which is a workflow manager.  Nextflow manages software dependencies using either docker or singularity. Other software we've used this week (e.g. prokka) also provides an option to run via Docker rather than installing the software locally. "
   ]
  },
  {
   "cell_type": "markdown",
   "id": "d1205145-dc96-4962-8451-6ac7dc10ce64",
   "metadata": {},
   "source": [
    "### Wow, that's a long command!\n",
    "What does it all mean?\n",
    "\n",
    "<u>Run options:</u>\n",
    "* **nextflow run BigelowLab/gorg-classifier** -- Run a nextflow script called \"gorg-classifier\" from the github account \"BigelowLab\"\n",
    "* *--profile* **singularity** --Tells nextflow to download required dependencies (kaiju, etc) as containers via singularity\n",
    "* *--cpus* **10** -- Use 10 cores\n",
    "\n",
    "<u>Inputs and outputs:</u>\n",
    "* *--seqs* **SRR\\*_{1,2}.fastq.gz** -- Input sequences: tells classifier we're giving it paired reads with names beginning with \"SRR\"\n",
    "* *--outdir* -- self-explanatory\n",
    "  \n",
    "<u>Config files required by Kaiju:</u>\n",
    "* *--mode* **local** -- Tells nextflow to use local reference database files (see below) \n",
    "* *--nodes* **nodes.dmp** -- Describes taxonomic hierarchy of reference taxa (e.g. NCBI taxonomy)\n",
    "* *--names* **names.dmp** -- Has names for the reference taxa\n",
    "* *--fmi* **GORG_v1_NCBI.fmi** -- The kaiju index file\n",
    "\n",
    "<u>Annotations required by Classifier:</u>\n",
    "* *--annotations* **GORG_v1.tsv**\n"
   ]
  },
  {
   "cell_type": "markdown",
   "id": "315dc538-d4ee-4c23-933e-05ae671e2952",
   "metadata": {},
   "source": [
    "### Okay, but why so complicated?\n",
    "\n",
    "According to the [ReadMe](https://github.com/BigelowLab/gorg-classifier), Classifier *could* be run as simply as:\n",
    "```\n",
    "nextflow run BigelowLab/gorg-classifier -profile docker\n",
    "--seqs '/data/*.fastq'\n",
    "```\n",
    "\n",
    "However, I've found that--due to permissions issues--it's necessary to run it in local mode (specifying names, nodes, annotations and fmi files)\n"
   ]
  },
  {
   "cell_type": "markdown",
   "id": "d11e80bb-7228-429a-a095-a978a5eb2011",
   "metadata": {},
   "source": [
    "### After the workshop, can you help me run Classifier on my own system?\n",
    "Yes!<Br>\n",
    "You can contact me (Greg) at ggavelis@bigelow.org<br>\n",
    "If you're working on a computer cluster, you may also need your IT admin to install nextflow and singularity."
   ]
  },
  {
   "cell_type": "code",
   "execution_count": null,
   "id": "32276f86-8960-4dd9-a6ff-5e55c5570ead",
   "metadata": {},
   "outputs": [],
   "source": []
  }
 ],
 "metadata": {
  "kernelspec": {
   "display_name": "biopy",
   "language": "python",
   "name": "biopy"
  },
  "language_info": {
   "codemirror_mode": {
    "name": "ipython",
    "version": 3
   },
   "file_extension": ".py",
   "mimetype": "text/x-python",
   "name": "python",
   "nbconvert_exporter": "python",
   "pygments_lexer": "ipython3",
   "version": "3.12.2"
  }
 },
 "nbformat": 4,
 "nbformat_minor": 5
}
